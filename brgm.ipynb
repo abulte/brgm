{
 "cells": [
  {
   "cell_type": "code",
   "execution_count": 72,
   "id": "889175e5",
   "metadata": {},
   "outputs": [
    {
     "name": "stderr",
     "output_type": "stream",
     "text": [
      "/var/folders/cg/b2_z5vjn52x7nyrtvtmwqsqh0000gp/T/ipykernel_27627/2703078761.py:6: FutureWarning: Passing a negative integer is deprecated in version 1.0 and will not be supported in future version. Instead, use None to not limit the column width.\n",
      "  pd.set_option('display.max_colwidth', -1)\n"
     ]
    }
   ],
   "source": [
    "import json\n",
    "import pandas as pd\n",
    "import requests\n",
    "pd.options.display.max_rows = 200\n",
    "pd.options.display.max_columns = 100\n",
    "pd.set_option('display.max_colwidth', -1)"
   ]
  },
  {
   "cell_type": "code",
   "execution_count": 73,
   "id": "9918edf5",
   "metadata": {},
   "outputs": [],
   "source": [
    "def getDataframe(filename):\n",
    "    arr = []\n",
    "    with open('./data/' + filename) as out:\n",
    "        for line in out:\n",
    "            j_content = json.loads(line)\n",
    "            arr.append(j_content)\n",
    "    df = pd.DataFrame(arr)\n",
    "    return df"
   ]
  },
  {
   "cell_type": "code",
   "execution_count": 74,
   "id": "8ac9763b",
   "metadata": {},
   "outputs": [],
   "source": [
    "organizations = getDataframe('organizations.json')"
   ]
  },
  {
   "cell_type": "code",
   "execution_count": 75,
   "id": "2547499c",
   "metadata": {},
   "outputs": [],
   "source": [
    "arr = []\n",
    "for index, row in organizations.iterrows():\n",
    "    odict = {}\n",
    "    odict['geop_organization_id'] = dict(row['_id'])['$oid']\n",
    "    odict['geop_organization_name'] = row['name']\n",
    "    arr.append(odict)\n",
    "organizations = pd.DataFrame(arr)"
   ]
  },
  {
   "cell_type": "code",
   "execution_count": 76,
   "id": "da3c5195",
   "metadata": {},
   "outputs": [],
   "source": [
    "organizations['dgv_organization_id'] = organizations['geop_organization_id']"
   ]
  },
  {
   "cell_type": "code",
   "execution_count": 77,
   "id": "8690af4c",
   "metadata": {},
   "outputs": [],
   "source": [
    "dgv_catalog_orgas = pd.read_csv('https://www.data.gouv.fr/fr/datasets/r/b7bbfedc-2448-4135-a6c7-104548d396e7',sep=';')"
   ]
  },
  {
   "cell_type": "code",
   "execution_count": 78,
   "id": "877d55b4",
   "metadata": {},
   "outputs": [],
   "source": [
    "dgv_catalog_orgas = dgv_catalog_orgas[['id','name']]"
   ]
  },
  {
   "cell_type": "code",
   "execution_count": 79,
   "id": "8a18c981",
   "metadata": {},
   "outputs": [],
   "source": [
    "dgv_catalog_orgas = dgv_catalog_orgas.rename(columns={'id': 'dgv_organization_id','name':'dgv_organization_name'})"
   ]
  },
  {
   "cell_type": "code",
   "execution_count": 80,
   "id": "e642535f",
   "metadata": {},
   "outputs": [],
   "source": [
    "organizations = organizations.drop_duplicates(keep=\"first\")\n",
    "dgv_catalog_orgas = dgv_catalog_orgas.drop_duplicates(keep=\"first\")"
   ]
  },
  {
   "cell_type": "code",
   "execution_count": 81,
   "id": "b959798a",
   "metadata": {},
   "outputs": [
    {
     "data": {
      "text/plain": [
       "Index(['geop_organization_id', 'geop_organization_name',\n",
       "       'dgv_organization_id'],\n",
       "      dtype='object')"
      ]
     },
     "execution_count": 81,
     "metadata": {},
     "output_type": "execute_result"
    }
   ],
   "source": [
    "organizations.columns"
   ]
  },
  {
   "cell_type": "code",
   "execution_count": 82,
   "id": "608fd072",
   "metadata": {},
   "outputs": [
    {
     "data": {
      "text/plain": [
       "3209"
      ]
     },
     "execution_count": 82,
     "metadata": {},
     "output_type": "execute_result"
    }
   ],
   "source": [
    "dgv_catalog_orgas.dgv_organization_id.nunique()"
   ]
  },
  {
   "cell_type": "code",
   "execution_count": 83,
   "id": "5db0a017",
   "metadata": {},
   "outputs": [],
   "source": [
    "final_orgas = pd.merge(organizations,dgv_catalog_orgas,on='dgv_organization_id',how='left')"
   ]
  },
  {
   "cell_type": "code",
   "execution_count": 84,
   "id": "881c8c1b",
   "metadata": {},
   "outputs": [],
   "source": [
    "geoc = pd.read_excel('./data/Liste_catalogues_DCAT.xlsx')"
   ]
  },
  {
   "cell_type": "code",
   "execution_count": 85,
   "id": "ebf938ee",
   "metadata": {},
   "outputs": [],
   "source": [
    "geoc = geoc.rename(columns={'Producteurs': 'geoc_organization_name', \n",
    "                            'uuid': 'geoc_organization_uuid', \n",
    "                            'url de moissonnage ': 'geoc_organization_url'\n",
    "})"
   ]
  },
  {
   "cell_type": "code",
   "execution_count": 86,
   "id": "45e8b306",
   "metadata": {},
   "outputs": [],
   "source": [
    "dff = final_orgas\n",
    "dff['geoc_organization_name'] = None\n",
    "dff['geoc_organization_uuid'] = None\n",
    "dff['geoc_organization_url'] = None"
   ]
  },
  {
   "cell_type": "code",
   "execution_count": 87,
   "id": "876ad59e",
   "metadata": {},
   "outputs": [],
   "source": [
    "def removeCommonWords(org):\n",
    "    org = str(org)\n",
    "    org = org.replace(' de ',' ').replace(' un ',' ').replace(' à ','').replace(' l\\'',' ').replace(' d\\'', ' ')\n",
    "    org = org.replace(' des ',' ').replace(' pour ', ' ').replace(' les ', ' ').replace('(','').replace(')','')\n",
    "    org = org.replace(' - ',' ').replace(',','').replace(' du ', ' ').replace('à','a').replace('é','e')\n",
    "    org = org.replace('ê','e').replace('è','e').replace('\\'',' ')\n",
    "    return org.lower()"
   ]
  },
  {
   "cell_type": "code",
   "execution_count": 88,
   "id": "3bca0afd",
   "metadata": {},
   "outputs": [],
   "source": [
    "arr = []\n",
    "cpt = 0\n",
    "for index, row in dff.iterrows():\n",
    "    for index2, row2 in geoc.iterrows():\n",
    "        if(row['geop_organization_name'] == row['geop_organization_name']):\n",
    "            if removeCommonWords(row['geop_organization_name']) in removeCommonWords(row2['geoc_organization_name']):\n",
    "                row['geoc_organization_name'] = row2['geoc_organization_name']\n",
    "                row['geoc_organization_uuid'] = row2['geoc_organization_uuid']\n",
    "                row['geoc_organization_url'] = row2['geoc_organization_url']\n",
    "            elif(row['dgv_organization_name'] == row['dgv_organization_name']):\n",
    "                if removeCommonWords(row['dgv_organization_name']) in removeCommonWords(row2['geoc_organization_name']):\n",
    "                    row['geoc_organization_name'] = row2['geoc_organization_name']\n",
    "                    row['geoc_organization_uuid'] = row2['geoc_organization_uuid']\n",
    "                    row['geoc_organization_url'] = row2['geoc_organization_url']\n",
    "\n",
    "    arr.append(row)"
   ]
  },
  {
   "cell_type": "code",
   "execution_count": 89,
   "id": "065d9a95",
   "metadata": {},
   "outputs": [],
   "source": [
    "df_final = pd.DataFrame(arr)"
   ]
  },
  {
   "cell_type": "code",
   "execution_count": 90,
   "id": "cdc48e8d",
   "metadata": {},
   "outputs": [
    {
     "data": {
      "text/plain": [
       "(296, 7)"
      ]
     },
     "execution_count": 90,
     "metadata": {},
     "output_type": "execute_result"
    }
   ],
   "source": [
    "df_final.shape"
   ]
  },
  {
   "cell_type": "code",
   "execution_count": 93,
   "id": "08af082b",
   "metadata": {},
   "outputs": [
    {
     "data": {
      "text/plain": [
       "(56, 7)"
      ]
     },
     "execution_count": 93,
     "metadata": {},
     "output_type": "execute_result"
    }
   ],
   "source": [
    "df_final[df_final['geoc_organization_uuid'].notna()].shape"
   ]
  },
  {
   "cell_type": "code",
   "execution_count": 92,
   "id": "c4b2f072",
   "metadata": {},
   "outputs": [],
   "source": [
    "df_final.to_csv('mapping_geop_dgv_geoc.csv',index=False)"
   ]
  },
  {
   "cell_type": "code",
   "execution_count": null,
   "id": "15d15fa5",
   "metadata": {},
   "outputs": [],
   "source": []
  }
 ],
 "metadata": {
  "kernelspec": {
   "display_name": "Python 3 (ipykernel)",
   "language": "python",
   "name": "python3"
  },
  "language_info": {
   "codemirror_mode": {
    "name": "ipython",
    "version": 3
   },
   "file_extension": ".py",
   "mimetype": "text/x-python",
   "name": "python",
   "nbconvert_exporter": "python",
   "pygments_lexer": "ipython3",
   "version": "3.8.12"
  }
 },
 "nbformat": 4,
 "nbformat_minor": 5
}
